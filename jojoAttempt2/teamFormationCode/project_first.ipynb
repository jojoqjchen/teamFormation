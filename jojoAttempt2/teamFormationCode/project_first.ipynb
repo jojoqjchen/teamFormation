{
 "cells": [
  {
   "cell_type": "code",
   "execution_count": 1,
   "id": "8dc28884-111e-4b9b-9bc1-b02cc3a45c51",
   "metadata": {},
   "outputs": [],
   "source": [
    "import pandas as pd\n",
    "import numpy as np\n",
    "import scipy as sc\n",
    "from scipy import optimize"
   ]
  },
  {
   "cell_type": "code",
   "execution_count": 2,
   "id": "97dffd2e-d77c-4f53-bc9c-3484331a3e32",
   "metadata": {},
   "outputs": [
    {
     "data": {
      "text/html": [
       "<div>\n",
       "<style scoped>\n",
       "    .dataframe tbody tr th:only-of-type {\n",
       "        vertical-align: middle;\n",
       "    }\n",
       "\n",
       "    .dataframe tbody tr th {\n",
       "        vertical-align: top;\n",
       "    }\n",
       "\n",
       "    .dataframe thead th {\n",
       "        text-align: right;\n",
       "    }\n",
       "</style>\n",
       "<table border=\"1\" class=\"dataframe\">\n",
       "  <thead>\n",
       "    <tr style=\"text-align: right;\">\n",
       "      <th></th>\n",
       "      <th>First name</th>\n",
       "      <th>Last Name</th>\n",
       "      <th>Email Address</th>\n",
       "      <th>Choice 1</th>\n",
       "      <th>Choice 2</th>\n",
       "      <th>Choice 3</th>\n",
       "    </tr>\n",
       "  </thead>\n",
       "  <tbody>\n",
       "    <tr>\n",
       "      <th>0</th>\n",
       "      <td>G</td>\n",
       "      <td>M</td>\n",
       "      <td>g</td>\n",
       "      <td>1</td>\n",
       "      <td>2</td>\n",
       "      <td>3</td>\n",
       "    </tr>\n",
       "    <tr>\n",
       "      <th>1</th>\n",
       "      <td>J</td>\n",
       "      <td>M</td>\n",
       "      <td>j</td>\n",
       "      <td>2</td>\n",
       "      <td>1</td>\n",
       "      <td>3</td>\n",
       "    </tr>\n",
       "    <tr>\n",
       "      <th>2</th>\n",
       "      <td>K</td>\n",
       "      <td>K</td>\n",
       "      <td>K</td>\n",
       "      <td>3</td>\n",
       "      <td>2</td>\n",
       "      <td>1</td>\n",
       "    </tr>\n",
       "    <tr>\n",
       "      <th>3</th>\n",
       "      <td>P</td>\n",
       "      <td>C</td>\n",
       "      <td>p</td>\n",
       "      <td>4</td>\n",
       "      <td>3</td>\n",
       "      <td>2</td>\n",
       "    </tr>\n",
       "    <tr>\n",
       "      <th>4</th>\n",
       "      <td>O</td>\n",
       "      <td>T</td>\n",
       "      <td>t</td>\n",
       "      <td>5</td>\n",
       "      <td>4</td>\n",
       "      <td>3</td>\n",
       "    </tr>\n",
       "  </tbody>\n",
       "</table>\n",
       "</div>"
      ],
      "text/plain": [
       "  First name Last Name Email Address  Choice 1  Choice 2  Choice 3\n",
       "0          G         M             g         1         2         3\n",
       "1          J         M             j         2         1         3\n",
       "2          K         K             K         3         2         1\n",
       "3          P         C             p         4         3         2\n",
       "4          O         T             t         5         4         3"
      ]
     },
     "execution_count": 2,
     "metadata": {},
     "output_type": "execute_result"
    }
   ],
   "source": [
    "df = pd.read_csv('project-first-survey.csv')\n",
    "df.head()"
   ]
  },
  {
   "cell_type": "code",
   "execution_count": 3,
   "id": "c2fc9799-bbb7-4140-b118-3bcfbbfc77c8",
   "metadata": {},
   "outputs": [
    {
     "name": "stdout",
     "output_type": "stream",
     "text": [
      "[8, 7, 9, 7, 2, 2, 2, 2, 2, 2, 2, 2]\n",
      "[2, 9, 7, 4, 4, 3, 3, 3, 3, 3, 3, 3]\n",
      "[2, 1, 4, 6, 1, 2, 6, 9, 6, 4, 3, 3]\n"
     ]
    }
   ],
   "source": [
    "choice1 = []\n",
    "choice2 = []\n",
    "choice3 = []\n",
    "for i in range(1,13):\n",
    "    choice1.append(df[df['Choice 1']==i]['Choice 1'].count())\n",
    "    choice2.append(df[df['Choice 2']==i]['Choice 2'].count())\n",
    "    choice3.append(df[df['Choice 3']==i]['Choice 3'].count())\n",
    "\n",
    "print(choice1)\n",
    "print(choice2)\n",
    "print(choice3)"
   ]
  },
  {
   "cell_type": "code",
   "execution_count": 4,
   "id": "d384781a-99ee-46b7-a74b-e1b7fb937395",
   "metadata": {},
   "outputs": [
    {
     "data": {
      "text/plain": [
       "8"
      ]
     },
     "execution_count": 4,
     "metadata": {},
     "output_type": "execute_result"
    }
   ],
   "source": [
    "df[df['Choice 1']==1]['Choice 1'].count()"
   ]
  },
  {
   "cell_type": "code",
   "execution_count": 5,
   "id": "6670f460-5ecf-4c13-86bf-150add13a6d0",
   "metadata": {},
   "outputs": [],
   "source": [
    "n = df.shape[0] # Number of students\n",
    "m = 12 # Number of teams\n",
    "t = 4 # Team size"
   ]
  },
  {
   "cell_type": "code",
   "execution_count": 6,
   "id": "e75cc4e9-bf0e-4320-942e-767ba2b8ec68",
   "metadata": {},
   "outputs": [
    {
     "name": "stdout",
     "output_type": "stream",
     "text": [
      "   Choice 1  Choice 2  Choice 3\n",
      "0         1         2         3\n",
      "1         2         1         3\n",
      "2         3         2         1\n",
      "3         4         3         2\n",
      "4         5         4         3\n",
      "(47, 3)\n"
     ]
    }
   ],
   "source": [
    "print(df.iloc[:,3:6].head())\n",
    "choices = df.iloc[:,3:6].to_numpy()\n",
    "print(choices.shape)"
   ]
  },
  {
   "cell_type": "code",
   "execution_count": 7,
   "id": "fd0fafb1-dea8-4a34-b315-c09bed09f522",
   "metadata": {},
   "outputs": [],
   "source": [
    "c_choices = np.full((n*m,1),100)\n",
    "for i in range(choices.shape[0]): # i = student number from 0 to n-1\n",
    "    for k in range(choices.shape[1]): # k = choice number for the student i\n",
    "        c_choices[i*m+choices[i,k]-1]=k+1\n",
    "        #print(c_choices[i*m+choices[i,k]-1]) # must select the i*m+j cell, which represents the project j for student i. j = choices[i,k]"
   ]
  },
  {
   "cell_type": "code",
   "execution_count": 8,
   "id": "bfc7e059-a8b0-4e1a-b9c2-65b2d9e0d643",
   "metadata": {},
   "outputs": [],
   "source": [
    "b_eq = np.ones((n,1))\n",
    "b_ub = t*np.ones((m,1))"
   ]
  },
  {
   "cell_type": "code",
   "execution_count": 9,
   "id": "7c602b2f-9741-46ff-8a0f-ab22ba6e0289",
   "metadata": {},
   "outputs": [],
   "source": [
    "A_eq = np.zeros((n,n*m))\n",
    "A_ub = np.zeros((m,n*m))\n",
    "\n",
    "for row_eq in range(n):\n",
    "    for i in range(m):\n",
    "        A_eq[row_eq,row_eq*m+i]=1\n",
    "\n",
    "for row_ub in range(m):\n",
    "    for i in range(n):\n",
    "        A_ub[row_ub,row_ub+i*m]=1"
   ]
  },
  {
   "cell_type": "code",
   "execution_count": 10,
   "id": "a18417e9-63e5-483e-a274-cafc9dcf98f7",
   "metadata": {},
   "outputs": [],
   "source": [
    "lb, ub = 0, 1"
   ]
  },
  {
   "cell_type": "code",
   "execution_count": 11,
   "id": "d5cd37f8-ceab-491d-b227-c5d918dd0a0b",
   "metadata": {},
   "outputs": [],
   "source": [
    "res = sc.optimize.linprog(c = c_choices, A_ub=A_ub, b_ub=b_ub, A_eq=A_eq, b_eq=b_eq, bounds=(lb,ub), method='simplex', callback=None, options=None, x0=None)"
   ]
  },
  {
   "cell_type": "code",
   "execution_count": 12,
   "id": "1a960907-3b9e-40c8-ad43-5c8efc00fa7b",
   "metadata": {},
   "outputs": [
    {
     "data": {
      "text/plain": [
       "(564,)"
      ]
     },
     "execution_count": 12,
     "metadata": {},
     "output_type": "execute_result"
    }
   ],
   "source": [
    "res['x'].shape"
   ]
  },
  {
   "cell_type": "code",
   "execution_count": 13,
   "id": "a3565ba8-383a-4f8f-b1db-b47b8550bc54",
   "metadata": {},
   "outputs": [
    {
     "data": {
      "text/plain": [
       "array([1., 0., 0., 0., 0., 0., 0., 0., 0., 0., 0., 0., 1., 0., 0., 0., 0.,\n",
       "       0., 0., 0., 0., 0., 0., 0., 1., 0., 0., 0., 0., 0., 0., 0., 0., 0.,\n",
       "       0., 0., 0., 1., 0., 0., 0., 0., 0., 0., 0., 0., 0., 0., 0., 0., 0.,\n",
       "       0., 0., 0., 0., 0., 0., 0., 0., 1., 0., 0., 0., 1., 0., 0., 0., 0.,\n",
       "       0., 0., 0., 0., 0., 0., 0., 0., 1., 0., 0., 0., 0., 0., 0., 0., 0.,\n",
       "       0., 0., 0., 0., 1., 0., 0., 0., 0., 0., 0., 0., 0., 0., 0., 0., 0.,\n",
       "       1., 0., 0., 0., 0., 0., 0., 0., 0., 1., 0., 0., 0., 0., 0., 0., 0.,\n",
       "       0., 0., 0., 0., 0., 0., 0., 0., 0., 1., 0., 0., 0., 0., 0., 0., 0.,\n",
       "       0., 0., 0., 0., 0., 1., 0., 0., 0., 0., 0., 0., 0., 0., 0., 0., 0.,\n",
       "       0., 1., 0., 0., 0., 0., 0., 0., 0., 0., 0., 0., 0., 1., 0., 0., 0.,\n",
       "       0., 0., 0., 0., 0., 0., 0., 0., 0., 1., 0., 0., 0., 0., 0., 0., 0.,\n",
       "       0., 0., 0., 0., 1., 0., 0., 0., 0., 0., 0., 0., 0., 0., 0., 0., 1.,\n",
       "       0., 0., 0., 0., 0., 0., 1., 0., 0., 0., 0., 0., 0., 0., 0., 0., 0.,\n",
       "       0., 0., 0., 0., 0., 1., 0., 0., 0., 0., 0., 0., 0., 0., 0., 0., 0.,\n",
       "       1., 0., 0., 0., 1., 0., 0., 0., 0., 0., 0., 0., 0., 0., 0., 0., 0.,\n",
       "       0., 0., 0., 0., 1., 0., 0., 0., 0., 0., 0., 0., 0., 0., 0., 0., 0.,\n",
       "       0., 1., 0., 0., 0., 0., 0., 0., 0., 0., 0., 0., 0., 1., 0., 0., 0.,\n",
       "       0., 0., 0., 0., 0., 0., 0., 0., 1., 0., 0., 0., 0., 0., 0., 0., 0.,\n",
       "       0., 0., 1., 0., 0., 0., 0., 0., 0., 0., 0., 0., 0., 0., 1., 0., 0.,\n",
       "       0., 0., 0., 0., 0., 0., 0., 0., 0., 1., 0., 0., 0., 0., 0., 0., 0.,\n",
       "       0., 0., 0., 1., 0., 0., 0., 0., 0., 0., 0., 0., 0., 0., 0., 1., 0.,\n",
       "       0., 0., 0., 0., 0., 0., 0., 0., 0., 0., 1., 0., 0., 0., 0., 0., 0.,\n",
       "       0., 0., 1., 0., 0., 0., 0., 0., 0., 0., 0., 0., 0., 0., 0., 0., 1.,\n",
       "       0., 0., 0., 0., 0., 0., 0., 0., 0., 0., 0., 1., 0., 0., 0., 0., 0.,\n",
       "       0., 0., 0., 0., 0., 1., 0., 0., 0., 0., 0., 0., 0., 0., 0., 0., 0.,\n",
       "       1., 0., 0., 0., 0., 0., 0., 0., 0., 0., 0., 0., 1., 0., 0., 0., 0.,\n",
       "       0., 0., 0., 0., 0., 0., 1., 0., 0., 0., 0., 0., 0., 0., 0., 0., 0.,\n",
       "       0., 1., 0., 0., 0., 0., 0., 0., 0., 0., 0., 1., 0., 0., 0., 0., 0.,\n",
       "       0., 0., 0., 0., 0., 0., 0., 1., 0., 0., 0., 0., 0., 0., 0., 0., 0.,\n",
       "       0., 0., 1., 0., 0., 0., 0., 0., 0., 0., 0., 0., 0., 1., 0., 0., 0.,\n",
       "       0., 0., 0., 0., 0., 0., 0., 0., 1., 0., 0., 0., 0., 0., 0., 0., 0.,\n",
       "       0., 0., 1., 0., 0., 0., 0., 0., 0., 0., 0., 0., 0., 0., 1., 0., 0.,\n",
       "       0., 0., 0., 0., 0., 0., 0., 0., 0., 1., 0., 0., 0., 0., 0., 0., 0.,\n",
       "       0., 0., 0.])"
      ]
     },
     "execution_count": 13,
     "metadata": {},
     "output_type": "execute_result"
    }
   ],
   "source": [
    "res['x']"
   ]
  },
  {
   "cell_type": "code",
   "execution_count": 14,
   "id": "5dea15a5-1cde-461b-8ea6-a450bf134b0c",
   "metadata": {},
   "outputs": [],
   "source": [
    "x_res = res['x']"
   ]
  },
  {
   "cell_type": "code",
   "execution_count": 15,
   "id": "3ee2f1f2-aca3-407b-9943-8ed275ac3a06",
   "metadata": {},
   "outputs": [],
   "source": [
    "x_res = np.floor(x_res+0.5)"
   ]
  },
  {
   "cell_type": "code",
   "execution_count": 16,
   "id": "baf27c3b-462a-46bf-9abe-13e58965b1a8",
   "metadata": {},
   "outputs": [
    {
     "data": {
      "text/plain": [
       "[[], [], [], [], [], [], [], [], [], [], [], []]"
      ]
     },
     "execution_count": 16,
     "metadata": {},
     "output_type": "execute_result"
    }
   ],
   "source": [
    "x_res_team = [[] for i in range(m)]\n",
    "x_res_team"
   ]
  },
  {
   "cell_type": "code",
   "execution_count": 17,
   "id": "72f0cb41-2169-466b-94df-917d75faf99b",
   "metadata": {},
   "outputs": [
    {
     "name": "stdout",
     "output_type": "stream",
     "text": [
      "Student :0 is assigned to team 0\n",
      "Student :1 is assigned to team 0\n",
      "Student :2 is assigned to team 0\n",
      "Student :3 is assigned to team 1\n",
      "Student :4 is assigned to team 11\n",
      "Student :5 is assigned to team 3\n",
      "Student :6 is assigned to team 4\n",
      "Student :7 is assigned to team 5\n",
      "Student :8 is assigned to team 6\n",
      "Student :9 is assigned to team 3\n",
      "Student :10 is assigned to team 8\n",
      "Student :11 is assigned to team 9\n",
      "Student :12 is assigned to team 10\n",
      "Student :13 is assigned to team 10\n",
      "Student :14 is assigned to team 11\n",
      "Student :15 is assigned to team 11\n",
      "Student :16 is assigned to team 11\n",
      "Student :17 is assigned to team 6\n",
      "Student :18 is assigned to team 10\n",
      "Student :19 is assigned to team 10\n",
      "Student :20 is assigned to team 2\n",
      "Student :21 is assigned to team 7\n",
      "Student :22 is assigned to team 9\n",
      "Student :23 is assigned to team 9\n",
      "Student :24 is assigned to team 9\n",
      "Student :25 is assigned to team 8\n",
      "Student :26 is assigned to team 8\n",
      "Student :27 is assigned to team 8\n",
      "Student :28 is assigned to team 7\n",
      "Student :29 is assigned to team 7\n",
      "Student :30 is assigned to team 7\n",
      "Student :31 is assigned to team 4\n",
      "Student :32 is assigned to team 6\n",
      "Student :33 is assigned to team 6\n",
      "Student :34 is assigned to team 5\n",
      "Student :35 is assigned to team 5\n",
      "Student :36 is assigned to team 5\n",
      "Student :37 is assigned to team 4\n",
      "Student :38 is assigned to team 4\n",
      "Student :39 is assigned to team 2\n",
      "Student :40 is assigned to team 3\n",
      "Student :41 is assigned to team 3\n",
      "Student :42 is assigned to team 2\n",
      "Student :43 is assigned to team 2\n",
      "Student :44 is assigned to team 1\n",
      "Student :45 is assigned to team 1\n",
      "Student :46 is assigned to team 1\n"
     ]
    }
   ],
   "source": [
    "for i in range(n): # for each student\n",
    "    sub_list = x_res[i*m:(i+1)*m]\n",
    "    for j in range(m): # we will search its project\n",
    "        if sub_list[j]>=1:\n",
    "            x_res_team[j].append(i)\n",
    "            print(\"Student :{} is assigned to team {}\".format(i,j))\n",
    "            "
   ]
  },
  {
   "cell_type": "code",
   "execution_count": 18,
   "id": "709393a8-3ba7-4a6b-851d-cec6cb92d41d",
   "metadata": {},
   "outputs": [
    {
     "data": {
      "text/plain": [
       "[[0, 1, 2],\n",
       " [3, 44, 45, 46],\n",
       " [20, 39, 42, 43],\n",
       " [5, 9, 40, 41],\n",
       " [6, 31, 37, 38],\n",
       " [7, 34, 35, 36],\n",
       " [8, 17, 32, 33],\n",
       " [21, 28, 29, 30],\n",
       " [10, 25, 26, 27],\n",
       " [11, 22, 23, 24],\n",
       " [12, 13, 18, 19],\n",
       " [4, 14, 15, 16]]"
      ]
     },
     "execution_count": 18,
     "metadata": {},
     "output_type": "execute_result"
    }
   ],
   "source": [
    "x_res_team"
   ]
  },
  {
   "cell_type": "code",
   "execution_count": 19,
   "id": "19379c05-d9a9-4c67-86df-92012b67aac3",
   "metadata": {},
   "outputs": [
    {
     "data": {
      "text/plain": [
       "array([1., 0., 0., 0., 0., 0., 0., 0., 0., 0., 0., 0., 1., 0., 0., 0., 0.,\n",
       "       0., 0., 0., 0., 0., 0., 0., 1., 0., 0., 0., 0., 0., 0., 0., 0., 0.,\n",
       "       0., 0., 0., 1., 0., 0., 0., 0., 0., 0., 0., 0., 0., 0., 0., 0., 0.,\n",
       "       0., 0., 0., 0., 0., 0., 0., 0., 1., 0., 0., 0., 1., 0., 0., 0., 0.,\n",
       "       0., 0., 0., 0., 0., 0., 0., 0., 1., 0., 0., 0., 0., 0., 0., 0., 0.,\n",
       "       0., 0., 0., 0., 1., 0., 0., 0., 0., 0., 0., 0., 0., 0., 0., 0., 0.,\n",
       "       1., 0., 0., 0., 0., 0., 0., 0., 0., 1., 0., 0., 0., 0., 0., 0., 0.,\n",
       "       0., 0., 0., 0., 0., 0., 0., 0., 0., 1., 0., 0., 0., 0., 0., 0., 0.,\n",
       "       0., 0., 0., 0., 0., 1., 0., 0., 0., 0., 0., 0., 0., 0., 0., 0., 0.,\n",
       "       0., 1., 0., 0., 0., 0., 0., 0., 0., 0., 0., 0., 0., 1., 0., 0., 0.,\n",
       "       0., 0., 0., 0., 0., 0., 0., 0., 0., 1., 0., 0., 0., 0., 0., 0., 0.,\n",
       "       0., 0., 0., 0., 1., 0., 0., 0., 0., 0., 0., 0., 0., 0., 0., 0., 1.,\n",
       "       0., 0., 0., 0., 0., 0., 1., 0., 0., 0., 0., 0., 0., 0., 0., 0., 0.,\n",
       "       0., 0., 0., 0., 0., 1., 0., 0., 0., 0., 0., 0., 0., 0., 0., 0., 0.,\n",
       "       1., 0., 0., 0., 1., 0., 0., 0., 0., 0., 0., 0., 0., 0., 0., 0., 0.,\n",
       "       0., 0., 0., 0., 1., 0., 0., 0., 0., 0., 0., 0., 0., 0., 0., 0., 0.,\n",
       "       0., 1., 0., 0., 0., 0., 0., 0., 0., 0., 0., 0., 0., 1., 0., 0., 0.,\n",
       "       0., 0., 0., 0., 0., 0., 0., 0., 1., 0., 0., 0., 0., 0., 0., 0., 0.,\n",
       "       0., 0., 1., 0., 0., 0., 0., 0., 0., 0., 0., 0., 0., 0., 1., 0., 0.,\n",
       "       0., 0., 0., 0., 0., 0., 0., 0., 0., 1., 0., 0., 0., 0., 0., 0., 0.,\n",
       "       0., 0., 0., 1., 0., 0., 0., 0., 0., 0., 0., 0., 0., 0., 0., 1., 0.,\n",
       "       0., 0., 0., 0., 0., 0., 0., 0., 0., 0., 1., 0., 0., 0., 0., 0., 0.,\n",
       "       0., 0., 1., 0., 0., 0., 0., 0., 0., 0., 0., 0., 0., 0., 0., 0., 1.,\n",
       "       0., 0., 0., 0., 0., 0., 0., 0., 0., 0., 0., 1., 0., 0., 0., 0., 0.,\n",
       "       0., 0., 0., 0., 0., 1., 0., 0., 0., 0., 0., 0., 0., 0., 0., 0., 0.,\n",
       "       1., 0., 0., 0., 0., 0., 0., 0., 0., 0., 0., 0., 1., 0., 0., 0., 0.,\n",
       "       0., 0., 0., 0., 0., 0., 1., 0., 0., 0., 0., 0., 0., 0., 0., 0., 0.,\n",
       "       0., 1., 0., 0., 0., 0., 0., 0., 0., 0., 0., 1., 0., 0., 0., 0., 0.,\n",
       "       0., 0., 0., 0., 0., 0., 0., 1., 0., 0., 0., 0., 0., 0., 0., 0., 0.,\n",
       "       0., 0., 1., 0., 0., 0., 0., 0., 0., 0., 0., 0., 0., 1., 0., 0., 0.,\n",
       "       0., 0., 0., 0., 0., 0., 0., 0., 1., 0., 0., 0., 0., 0., 0., 0., 0.,\n",
       "       0., 0., 1., 0., 0., 0., 0., 0., 0., 0., 0., 0., 0., 0., 1., 0., 0.,\n",
       "       0., 0., 0., 0., 0., 0., 0., 0., 0., 1., 0., 0., 0., 0., 0., 0., 0.,\n",
       "       0., 0., 0.])"
      ]
     },
     "execution_count": 19,
     "metadata": {},
     "output_type": "execute_result"
    }
   ],
   "source": [
    "x_res[0:]"
   ]
  },
  {
   "cell_type": "code",
   "execution_count": 20,
   "id": "6fb6181b-099e-4531-b5c4-63fde48640ae",
   "metadata": {},
   "outputs": [
    {
     "data": {
      "text/plain": [
       "['Choice 1', 'Choice 2', 'Choice 3']"
      ]
     },
     "execution_count": 20,
     "metadata": {},
     "output_type": "execute_result"
    }
   ],
   "source": [
    "colNames = []\n",
    "for i in range(1,3+1):\n",
    "    col = 'Choice '+str(i)\n",
    "    c = df[col]\n",
    "    colNames.append(col)\n",
    "colNames"
   ]
  },
  {
   "cell_type": "code",
   "execution_count": 21,
   "id": "5b7718e0-bf6f-4c32-9515-c0ed7795dbbc",
   "metadata": {},
   "outputs": [],
   "source": [
    "from project_first import project_first_teams\n",
    "\n",
    "results = project_first_teams('project-first-survey.csv', [], 12, 4, numberOfChoices = 3, isCsv = True)"
   ]
  },
  {
   "cell_type": "code",
   "execution_count": 22,
   "id": "dc47275e-85a9-4c6f-8b77-f8583a6e6547",
   "metadata": {},
   "outputs": [
    {
     "data": {
      "text/plain": [
       "[[0, 1, 2],\n",
       " [3, 44, 45, 46],\n",
       " [20, 39, 42, 43],\n",
       " [5, 9, 40, 41],\n",
       " [6, 31, 37, 38],\n",
       " [7, 34, 35, 36],\n",
       " [8, 17, 32, 33],\n",
       " [21, 28, 29, 30],\n",
       " [10, 25, 26, 27],\n",
       " [11, 22, 23, 24],\n",
       " [12, 13, 18, 19],\n",
       " [4, 14, 15, 16]]"
      ]
     },
     "execution_count": 22,
     "metadata": {},
     "output_type": "execute_result"
    }
   ],
   "source": [
    "results"
   ]
  },
  {
   "cell_type": "code",
   "execution_count": null,
   "id": "731a6621-aafa-44a6-a4bd-e8b7044af7fb",
   "metadata": {},
   "outputs": [],
   "source": []
  }
 ],
 "metadata": {
  "kernelspec": {
   "display_name": "Python 3",
   "language": "python",
   "name": "python3"
  },
  "language_info": {
   "codemirror_mode": {
    "name": "ipython",
    "version": 3
   },
   "file_extension": ".py",
   "mimetype": "text/x-python",
   "name": "python",
   "nbconvert_exporter": "python",
   "pygments_lexer": "ipython3",
   "version": "3.9.4"
  }
 },
 "nbformat": 4,
 "nbformat_minor": 5
}
